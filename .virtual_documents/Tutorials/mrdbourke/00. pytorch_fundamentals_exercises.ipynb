# No code solution (reading)


# Import torch
import torch

# Create random tensor
rand_tensor = torch.rand(size=(7, 7))
rand_tensor


# Create another random tensor
rand_tensor_2 = torch.rand(size=(1, 7))
rand_tensor_2
# Perform matrix multiplication

mat_res = rand_tensor @ rand_tensor_2.T
mat_res


# Set manual seed


# Create two random tensors


# Matrix multiply tensors


# Set random seed on the GPU


# Set random seed


# Check for access to GPU

# Create two random tensors on GPU


# Perform matmul on tensor_A and tensor_B


# Find max

# Find min


# Find arg max


# Find arg min


# Set seed


# Create random tensor


# Remove single dimensions


# Print out tensors and their shapes
