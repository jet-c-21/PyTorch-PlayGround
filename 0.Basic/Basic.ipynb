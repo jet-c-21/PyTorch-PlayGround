{
 "cells": [
  {
   "cell_type": "markdown",
   "id": "083dee78-284e-459d-8205-4b5a58c0dc90",
   "metadata": {
    "tags": []
   },
   "source": [
    "## [Video](https://youtu.be/exaWOE8jvy8)"
   ]
  },
  {
   "cell_type": "code",
   "execution_count": null,
   "id": "ab959891-17c4-4422-82d6-409ab22360b3",
   "metadata": {},
   "outputs": [],
   "source": [
    "import torch"
   ]
  },
  {
   "cell_type": "markdown",
   "id": "da607241-72d6-4204-a00b-518e218c4511",
   "metadata": {},
   "source": [
    "## Initialzation and Some Basic Operations"
   ]
  },
  {
   "cell_type": "code",
   "execution_count": 2,
   "id": "9ea13e06-2d33-4d52-9b75-89025971be46",
   "metadata": {},
   "outputs": [
    {
     "data": {
      "text/plain": [
       "tensor([[-1.2997e-08,  4.5909e-41, -5.7702e-33],\n",
       "        [ 4.5908e-41, -1.2852e-08,  4.5909e-41]])"
      ]
     },
     "execution_count": 2,
     "metadata": {},
     "output_type": "execute_result"
    }
   ],
   "source": [
    "x = torch.empty(2, 3)  # 2 row, 3 column\n",
    "x"
   ]
  },
  {
   "cell_type": "code",
   "execution_count": 3,
   "id": "11d3f9ff-06d4-41e9-b4ec-ae72ef06c70d",
   "metadata": {},
   "outputs": [
    {
     "data": {
      "text/plain": [
       "(tensor([[[-3.6361e-32,  4.5909e-41, -3.6357e-32],\n",
       "          [ 4.5909e-41, -3.6360e-32,  4.5909e-41]],\n",
       " \n",
       "         [[-3.6363e-32,  4.5909e-41, -3.6363e-32],\n",
       "          [ 4.5909e-41, -3.6361e-32,  4.5909e-41]],\n",
       " \n",
       "         [[-3.6357e-32,  4.5909e-41, -3.6359e-32],\n",
       "          [ 4.5909e-41, -8.9836e-35,  4.5908e-41]]]),\n",
       " torch.Size([3, 2, 3]))"
      ]
     },
     "execution_count": 3,
     "metadata": {},
     "output_type": "execute_result"
    }
   ],
   "source": [
    "y = torch.empty(3, 2, 3)\n",
    "y, y.size()"
   ]
  },
  {
   "cell_type": "code",
   "execution_count": 4,
   "id": "a6b70353-b13d-4195-b532-572cfcd1b2f7",
   "metadata": {},
   "outputs": [
    {
     "data": {
      "text/plain": [
       "tensor([[0.8037, 0.7534],\n",
       "        [0.3065, 0.0553]])"
      ]
     },
     "execution_count": 4,
     "metadata": {},
     "output_type": "execute_result"
    }
   ],
   "source": [
    "rand_tensor = torch.rand(2, 2)\n",
    "rand_tensor"
   ]
  },
  {
   "cell_type": "code",
   "execution_count": 5,
   "id": "3e7188ba-2d10-4d8f-a6a6-c2fd738ac94c",
   "metadata": {},
   "outputs": [
    {
     "data": {
      "text/plain": [
       "(tensor([[0., 0.],\n",
       "         [0., 0.]]),\n",
       " torch.Size([2, 2]))"
      ]
     },
     "execution_count": 5,
     "metadata": {},
     "output_type": "execute_result"
    }
   ],
   "source": [
    "zeros_tensor = torch.zeros(2, 2)\n",
    "zeros_tensor, zeros_tensor.size()"
   ]
  },
  {
   "cell_type": "code",
   "execution_count": 7,
   "id": "2b273586-1b44-4b51-8bc3-69d78f3be6a1",
   "metadata": {},
   "outputs": [
    {
     "name": "stdout",
     "output_type": "stream",
     "text": [
      "torch.FloatTensor\n",
      "torch.float32\n"
     ]
    }
   ],
   "source": [
    "ones_tensor = torch.ones(2, 2)\n",
    "print(ones_tensor.type())\n",
    "print(ones_tensor.dtype)"
   ]
  },
  {
   "cell_type": "markdown",
   "id": "3a31a2ea-3ba0-4868-bd81-9ed94b88b0a2",
   "metadata": {},
   "source": [
    "## In pytorch, every function in the trailing underscore will do a \"In place operation\""
   ]
  },
  {
   "cell_type": "code",
   "execution_count": 10,
   "id": "61d87cd3-1e45-49c0-b501-dab2bb41aa48",
   "metadata": {},
   "outputs": [
    {
     "name": "stdout",
     "output_type": "stream",
     "text": [
      "y=tensor([3, 4]) z=tensor([4, 6])\n",
      "y=tensor([4, 6])\n"
     ]
    }
   ],
   "source": [
    "x = torch.tensor([1, 2])\n",
    "y = torch.tensor([3, 4])\n",
    "z = y.add(x)\n",
    "print(f\"y={y} z={z}\")\n",
    "\n",
    "\n",
    "y.add_(x)\n",
    "print(f\"y={y}\")"
   ]
  },
  {
   "cell_type": "markdown",
   "id": "c5c51f51-bf21-4eeb-820d-7639da4b2ed0",
   "metadata": {},
   "source": [
    "## Slice Tensor"
   ]
  },
  {
   "cell_type": "code",
   "execution_count": 13,
   "id": "e5a0b8d2-ac13-4d24-aca2-4bec39a21084",
   "metadata": {},
   "outputs": [],
   "source": [
    "x = torch.rand(5,3)"
   ]
  },
  {
   "cell_type": "code",
   "execution_count": 14,
   "id": "7191c777-6cc3-41dd-906d-39ebc5f914ce",
   "metadata": {},
   "outputs": [
    {
     "data": {
      "text/plain": [
       "tensor([[0.2895, 0.1819, 0.8711],\n",
       "        [0.5957, 0.8514, 0.6572],\n",
       "        [0.9596, 0.2097, 0.0240],\n",
       "        [0.5774, 0.5984, 0.9188],\n",
       "        [0.6580, 0.0229, 0.4196]])"
      ]
     },
     "execution_count": 14,
     "metadata": {},
     "output_type": "execute_result"
    }
   ],
   "source": [
    "x"
   ]
  },
  {
   "cell_type": "code",
   "execution_count": 17,
   "id": "c0c7dfe3-678a-4013-be96-5e4c19a4aa21",
   "metadata": {},
   "outputs": [
    {
     "data": {
      "text/plain": [
       "tensor([0.2895, 0.5957, 0.9596, 0.5774, 0.6580])"
      ]
     },
     "execution_count": 17,
     "metadata": {},
     "output_type": "execute_result"
    }
   ],
   "source": [
    "x[:, 0] # to get only first column"
   ]
  },
  {
   "cell_type": "code",
   "execution_count": 19,
   "id": "a1a01567-a312-4a77-8274-b53a0841d8fa",
   "metadata": {},
   "outputs": [
    {
     "data": {
      "text/plain": [
       "tensor([0.5957, 0.8514, 0.6572])"
      ]
     },
     "execution_count": 19,
     "metadata": {},
     "output_type": "execute_result"
    }
   ],
   "source": [
    "x[1, :] # row 1 with all columns"
   ]
  },
  {
   "cell_type": "code",
   "execution_count": 21,
   "id": "41925bf2-563f-4440-9bc0-9d28539e00d3",
   "metadata": {},
   "outputs": [
    {
     "data": {
      "text/plain": [
       "tensor(0.5984)"
      ]
     },
     "execution_count": 21,
     "metadata": {},
     "output_type": "execute_result"
    }
   ],
   "source": [
    "x[3, 1] # row 3 col 1"
   ]
  },
  {
   "cell_type": "code",
   "execution_count": 23,
   "id": "58dd58e3-1094-43a8-8e1e-c54d5d8bf1d7",
   "metadata": {},
   "outputs": [
    {
     "data": {
      "text/plain": [
       "0.5983633995056152"
      ]
     },
     "execution_count": 23,
     "metadata": {},
     "output_type": "execute_result"
    }
   ],
   "source": [
    "x[3, 1].item() # to get the actual value"
   ]
  },
  {
   "cell_type": "markdown",
   "id": "118ef358-3966-4801-bb30-e3c7333aa232",
   "metadata": {},
   "source": [
    "## Reshaping a tensor"
   ]
  },
  {
   "cell_type": "code",
   "execution_count": 25,
   "id": "5ccb2751-339e-4de5-85df-ef90ad49f10b",
   "metadata": {},
   "outputs": [],
   "source": [
    "x = torch.rand(4,4)"
   ]
  },
  {
   "cell_type": "code",
   "execution_count": 26,
   "id": "990c0356-4c06-4cc5-879b-194c50a604fd",
   "metadata": {},
   "outputs": [
    {
     "data": {
      "text/plain": [
       "tensor([[0.9411, 0.7839, 0.4814, 0.6418],\n",
       "        [0.4166, 0.9755, 0.6665, 0.2499],\n",
       "        [0.7651, 0.0833, 0.0888, 0.5214],\n",
       "        [0.6716, 0.5437, 0.5968, 0.3198]])"
      ]
     },
     "execution_count": 26,
     "metadata": {},
     "output_type": "execute_result"
    }
   ],
   "source": [
    "x"
   ]
  },
  {
   "cell_type": "code",
   "execution_count": 28,
   "id": "af73e869-9f0a-46fe-919e-a5a1d9bf5484",
   "metadata": {},
   "outputs": [],
   "source": [
    "y = x.view(16)"
   ]
  },
  {
   "cell_type": "code",
   "execution_count": 29,
   "id": "25feafc5-ac3f-4e96-86b5-a977dce01c1f",
   "metadata": {},
   "outputs": [
    {
     "data": {
      "text/plain": [
       "tensor([0.9411, 0.7839, 0.4814, 0.6418, 0.4166, 0.9755, 0.6665, 0.2499, 0.7651,\n",
       "        0.0833, 0.0888, 0.5214, 0.6716, 0.5437, 0.5968, 0.3198])"
      ]
     },
     "execution_count": 29,
     "metadata": {},
     "output_type": "execute_result"
    }
   ],
   "source": [
    "y"
   ]
  },
  {
   "cell_type": "code",
   "execution_count": 37,
   "id": "c08db075-f7eb-4390-a379-b67d88475a1e",
   "metadata": {},
   "outputs": [
    {
     "data": {
      "text/plain": [
       "tensor([[0.9411, 0.7839, 0.4814, 0.6418, 0.4166, 0.9755, 0.6665, 0.2499],\n",
       "        [0.7651, 0.0833, 0.0888, 0.5214, 0.6716, 0.5437, 0.5968, 0.3198]])"
      ]
     },
     "execution_count": 37,
     "metadata": {},
     "output_type": "execute_result"
    }
   ],
   "source": [
    "y = x.view(-1, 8)\n",
    "y"
   ]
  },
  {
   "cell_type": "code",
   "execution_count": 38,
   "id": "69230209-47df-4836-902c-3969e1954969",
   "metadata": {},
   "outputs": [
    {
     "data": {
      "text/plain": [
       "torch.Size([2, 8])"
      ]
     },
     "execution_count": 38,
     "metadata": {},
     "output_type": "execute_result"
    }
   ],
   "source": [
    "y.size()"
   ]
  },
  {
   "cell_type": "markdown",
   "id": "33616516-6c66-464c-bdce-609184d81a3f",
   "metadata": {},
   "source": [
    "## Convertion between Numpy and Tensor "
   ]
  },
  {
   "cell_type": "code",
   "execution_count": 42,
   "id": "ba844fb6-b4d0-42de-bb82-301f0e44afc5",
   "metadata": {},
   "outputs": [],
   "source": [
    "import numpy as np"
   ]
  },
  {
   "cell_type": "markdown",
   "id": "aac0624f-1ee5-4a9c-946f-0694fb9765b2",
   "metadata": {},
   "source": [
    "### Torch Tensor to Numpy"
   ]
  },
  {
   "cell_type": "code",
   "execution_count": 41,
   "id": "099134f0-a782-4edf-9750-f8b4fbc9d2ea",
   "metadata": {},
   "outputs": [
    {
     "data": {
      "text/plain": [
       "tensor([1., 1., 1., 1., 1.])"
      ]
     },
     "execution_count": 41,
     "metadata": {},
     "output_type": "execute_result"
    }
   ],
   "source": [
    "a = torch.ones(5)\n",
    "a"
   ]
  },
  {
   "cell_type": "code",
   "execution_count": 43,
   "id": "ccd98c1b-95b7-4a6d-a77b-19959d0ec700",
   "metadata": {},
   "outputs": [
    {
     "data": {
      "text/plain": [
       "(array([1., 1., 1., 1., 1.], dtype=float32), numpy.ndarray)"
      ]
     },
     "execution_count": 43,
     "metadata": {},
     "output_type": "execute_result"
    }
   ],
   "source": [
    "b = a.numpy()\n",
    "b, type(b)"
   ]
  },
  {
   "cell_type": "markdown",
   "id": "c653103d-ef72-4de7-a3ac-b0d5230ce74a",
   "metadata": {},
   "source": [
    "#### a and b are pointed to the same object"
   ]
  },
  {
   "cell_type": "code",
   "execution_count": 46,
   "id": "19baf8d8-ccbd-4f36-90db-9b768183534f",
   "metadata": {},
   "outputs": [
    {
     "data": {
      "text/plain": [
       "tensor([2., 2., 2., 2., 2.])"
      ]
     },
     "execution_count": 46,
     "metadata": {},
     "output_type": "execute_result"
    }
   ],
   "source": [
    "a.add_(1)\n",
    "a"
   ]
  },
  {
   "cell_type": "code",
   "execution_count": 47,
   "id": "0e1f6667-2940-4524-9c50-7b8b806231af",
   "metadata": {},
   "outputs": [
    {
     "data": {
      "text/plain": [
       "array([2., 2., 2., 2., 2.], dtype=float32)"
      ]
     },
     "execution_count": 47,
     "metadata": {},
     "output_type": "execute_result"
    }
   ],
   "source": [
    "b"
   ]
  },
  {
   "cell_type": "markdown",
   "id": "5b0c8ecc-1bf8-476b-b7ab-49afbcc64a6f",
   "metadata": {},
   "source": [
    "### Numpy to Torch Tensor"
   ]
  },
  {
   "cell_type": "code",
   "execution_count": 55,
   "id": "0d6171e2-bc6d-4d95-8e71-75169ccdbc5b",
   "metadata": {},
   "outputs": [
    {
     "data": {
      "text/plain": [
       "array([1., 1., 1., 1., 1.])"
      ]
     },
     "execution_count": 55,
     "metadata": {},
     "output_type": "execute_result"
    }
   ],
   "source": [
    "a = np.ones(5)\n",
    "a"
   ]
  },
  {
   "cell_type": "code",
   "execution_count": 56,
   "id": "935fdec8-1c56-409b-9a08-a28e62d402b0",
   "metadata": {},
   "outputs": [
    {
     "data": {
      "text/plain": [
       "tensor([1., 1., 1., 1., 1.], dtype=torch.float64)"
      ]
     },
     "execution_count": 56,
     "metadata": {},
     "output_type": "execute_result"
    }
   ],
   "source": [
    "b = torch.from_numpy(a)\n",
    "b"
   ]
  },
  {
   "cell_type": "code",
   "execution_count": null,
   "id": "7299eada-b415-4d50-9c1f-421ed42f8841",
   "metadata": {},
   "outputs": [],
   "source": []
  },
  {
   "cell_type": "code",
   "execution_count": 57,
   "id": "3c4a3350-fc12-44f5-b833-101bb1beb058",
   "metadata": {},
   "outputs": [
    {
     "data": {
      "text/plain": [
       "array([2., 2., 2., 2., 2.])"
      ]
     },
     "execution_count": 57,
     "metadata": {},
     "output_type": "execute_result"
    }
   ],
   "source": [
    "a += 1\n",
    "a"
   ]
  },
  {
   "cell_type": "code",
   "execution_count": 58,
   "id": "9944d02a-dab7-44fd-9036-52da975b550c",
   "metadata": {},
   "outputs": [
    {
     "data": {
      "text/plain": [
       "tensor([2., 2., 2., 2., 2.], dtype=torch.float64)"
      ]
     },
     "execution_count": 58,
     "metadata": {},
     "output_type": "execute_result"
    }
   ],
   "source": [
    "b"
   ]
  },
  {
   "cell_type": "markdown",
   "id": "d352e96d-aa81-4776-ae95-721b86a71bc4",
   "metadata": {},
   "source": [
    "## With CUDA"
   ]
  },
  {
   "cell_type": "code",
   "execution_count": 61,
   "id": "b5c73069-a9f8-46bb-84ed-d143fae414f5",
   "metadata": {},
   "outputs": [],
   "source": [
    "if torch.cuda.is_available():\n",
    "    device = torch.device('cuda')"
   ]
  },
  {
   "cell_type": "code",
   "execution_count": 62,
   "id": "68bbb060-4057-4bdf-bfd3-c2d52c37e389",
   "metadata": {},
   "outputs": [],
   "source": [
    "x = torch.ones(5, device=device)"
   ]
  },
  {
   "cell_type": "code",
   "execution_count": 64,
   "id": "3c0beedc-e9d3-4088-8361-d36120087052",
   "metadata": {},
   "outputs": [],
   "source": [
    "y = torch.ones(5)"
   ]
  },
  {
   "cell_type": "code",
   "execution_count": 66,
   "id": "7f5d793d-c6c2-4806-a109-f21dcf98c389",
   "metadata": {},
   "outputs": [
    {
     "data": {
      "text/plain": [
       "tensor([1., 1., 1., 1., 1.], device='cuda:0')"
      ]
     },
     "execution_count": 66,
     "metadata": {},
     "output_type": "execute_result"
    }
   ],
   "source": [
    "x"
   ]
  },
  {
   "cell_type": "code",
   "execution_count": 67,
   "id": "9a05b08b-73ea-4101-a7aa-5ed4db736cd1",
   "metadata": {},
   "outputs": [
    {
     "data": {
      "text/plain": [
       "tensor([1., 1., 1., 1., 1.])"
      ]
     },
     "execution_count": 67,
     "metadata": {},
     "output_type": "execute_result"
    }
   ],
   "source": [
    "y"
   ]
  },
  {
   "cell_type": "code",
   "execution_count": 70,
   "id": "cd159294-aa17-478b-9fde-ca7170352c57",
   "metadata": {},
   "outputs": [],
   "source": [
    "y = y.to(device)"
   ]
  },
  {
   "cell_type": "code",
   "execution_count": 71,
   "id": "348065cc-3783-4475-b1bc-94598d11df61",
   "metadata": {},
   "outputs": [
    {
     "data": {
      "text/plain": [
       "tensor([1., 1., 1., 1., 1.], device='cuda:0')"
      ]
     },
     "execution_count": 71,
     "metadata": {},
     "output_type": "execute_result"
    }
   ],
   "source": [
    "y"
   ]
  },
  {
   "cell_type": "code",
   "execution_count": 72,
   "id": "2bfdf22a-5d28-497e-8b23-a6c83cb1372d",
   "metadata": {},
   "outputs": [],
   "source": [
    "z = x+y"
   ]
  },
  {
   "cell_type": "markdown",
   "id": "2c26519f-5da3-464d-a1a0-d455e48c1133",
   "metadata": {},
   "source": [
    "#### Numpy can only handle CPU tensor"
   ]
  },
  {
   "cell_type": "code",
   "execution_count": 73,
   "id": "da12d546-5d33-4146-9c27-e1d4e57cc15e",
   "metadata": {},
   "outputs": [
    {
     "ename": "TypeError",
     "evalue": "can't convert cuda:0 device type tensor to numpy. Use Tensor.cpu() to copy the tensor to host memory first.",
     "output_type": "error",
     "traceback": [
      "\u001b[0;31m---------------------------------------------------------------------------\u001b[0m",
      "\u001b[0;31mTypeError\u001b[0m                                 Traceback (most recent call last)",
      "\u001b[0;32m/tmp/ipykernel_72169/770968320.py\u001b[0m in \u001b[0;36m<module>\u001b[0;34m\u001b[0m\n\u001b[0;32m----> 1\u001b[0;31m \u001b[0mz\u001b[0m\u001b[0;34m.\u001b[0m\u001b[0mnumpy\u001b[0m\u001b[0;34m(\u001b[0m\u001b[0;34m)\u001b[0m\u001b[0;34m\u001b[0m\u001b[0;34m\u001b[0m\u001b[0m\n\u001b[0m",
      "\u001b[0;31mTypeError\u001b[0m: can't convert cuda:0 device type tensor to numpy. Use Tensor.cpu() to copy the tensor to host memory first."
     ]
    }
   ],
   "source": [
    "z.numpy()"
   ]
  },
  {
   "cell_type": "markdown",
   "id": "422762df-2693-4ace-ba25-555c882da0c7",
   "metadata": {},
   "source": [
    "### put tensor back to CPU"
   ]
  },
  {
   "cell_type": "code",
   "execution_count": 79,
   "id": "3ef2635e-e909-4ab0-9926-09a264fb5c7f",
   "metadata": {},
   "outputs": [],
   "source": [
    "z = z.to('cpu')"
   ]
  },
  {
   "cell_type": "code",
   "execution_count": 80,
   "id": "0cba2c17-961e-487b-b56d-db2f4efa6666",
   "metadata": {},
   "outputs": [
    {
     "data": {
      "text/plain": [
       "tensor([2., 2., 2., 2., 2.])"
      ]
     },
     "execution_count": 80,
     "metadata": {},
     "output_type": "execute_result"
    }
   ],
   "source": [
    "z"
   ]
  },
  {
   "cell_type": "code",
   "execution_count": null,
   "id": "10d6506d-baca-429e-971c-51f1de041db7",
   "metadata": {},
   "outputs": [],
   "source": []
  }
 ],
 "metadata": {
  "kernelspec": {
   "display_name": "Pytorch Playground",
   "language": "python",
   "name": "pytorch"
  },
  "language_info": {
   "codemirror_mode": {
    "name": "ipython",
    "version": 3
   },
   "file_extension": ".py",
   "mimetype": "text/x-python",
   "name": "python",
   "nbconvert_exporter": "python",
   "pygments_lexer": "ipython3",
   "version": "3.8.12"
  }
 },
 "nbformat": 4,
 "nbformat_minor": 5
}
